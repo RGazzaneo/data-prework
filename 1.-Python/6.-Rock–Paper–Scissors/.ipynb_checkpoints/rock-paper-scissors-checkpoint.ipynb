{
 "cells": [
  {
   "cell_type": "markdown",
   "metadata": {},
   "source": [
    "<img src=\"https://bit.ly/2VnXWr2\" width=\"100\" align=\"left\">"
   ]
  },
  {
   "cell_type": "markdown",
   "metadata": {},
   "source": [
    "# Rock, Paper & Scissors\n",
    "\n",
    "Let's play the famous game against our computer. You can check the rules [here](https://en.wikipedia.org/wiki/Rock%E2%80%93paper%E2%80%93scissors). \n",
    "\n",
    "## Task\n",
    "Create a program that imitates the playability of the well known game of rock, paper, scissors. Follow the guidelines provided.\n",
    "\n",
    "## Tools\n",
    "1. Loop: **for/while**\n",
    "2. Functions: **input(), print()...**\n",
    "3. Conditional statements: **if, elif, else**\n",
    "4. Definition of functions. Modular programming\n",
    "5. Import modules\n",
    "\n",
    "**To solve this challenge, the use of functions is recommended.**\n",
    "\n",
    "#### 1. Import the choice function of the random module."
   ]
  },
  {
   "cell_type": "code",
   "execution_count": 1,
   "metadata": {},
   "outputs": [],
   "source": [
    "import random"
   ]
  },
  {
   "cell_type": "markdown",
   "metadata": {},
   "source": [
    "#### 2. Create a list that includes the 3 possible gesture options of the game: 'rock', 'paper' or 'scissors'. Store the list in a variable called `gestures`."
   ]
  },
  {
   "cell_type": "code",
   "execution_count": 2,
   "metadata": {},
   "outputs": [],
   "source": [
    "gestures= ['rock','paper','scissors']"
   ]
  },
  {
   "cell_type": "markdown",
   "metadata": {},
   "source": [
    "#### 3. Create a variable called `n_rounds` to store the maximum number of rounds to play in a game. \n",
    "Remember that the number of rounds must be odd: 1, 3, 5, ..."
   ]
  },
  {
   "cell_type": "code",
   "execution_count": 3,
   "metadata": {},
   "outputs": [],
   "source": [
    "def n_rounds():\n",
    "    n_round = int(input(\"Enter the number of rounds: \"))  \n",
    "    while (n_round % 2) == 0:  \n",
    "        print(\"Remember that the number of rounds must be odd: 1, 3, 5, ...\")  \n",
    "        n_round = int(input(\"Enter the number of rounds: \"))\n",
    "    return n_round"
   ]
  },
  {
   "cell_type": "markdown",
   "metadata": {},
   "source": [
    "#### 4. Create a variable called `rounds_to_win` to store the number of rounds that a player must win to win the game.\n",
    "**Hint**: the value stored in `rounds_to_win` depends on the value of `n_rounds`. "
   ]
  },
  {
   "cell_type": "code",
   "execution_count": 4,
   "metadata": {},
   "outputs": [],
   "source": [
    "rounds_to_win=0"
   ]
  },
  {
   "cell_type": "markdown",
   "metadata": {},
   "source": [
    "#### 5. Create two variables to store the number of rounds that the computer and the player have won. Call these variables `cpu_score` and `player_score`."
   ]
  },
  {
   "cell_type": "code",
   "execution_count": 5,
   "metadata": {},
   "outputs": [],
   "source": [
    "cpu_score=0\n",
    "player_score=0\n",
    "played_rounds=0"
   ]
  },
  {
   "cell_type": "markdown",
   "metadata": {},
   "source": [
    "#### 6. Define a function that randomly returns one of the 3 gesture options.\n",
    "You will use this function to simulate the gesture choice of the computer. "
   ]
  },
  {
   "cell_type": "code",
   "execution_count": 6,
   "metadata": {},
   "outputs": [],
   "source": [
    "def cpu():\n",
    "    cpu_input=random.randint(0,2)\n",
    "    cpu_gesture=gestures[random.randint(0,2)]\n",
    "    return (cpu_input, cpu_gesture)"
   ]
  },
  {
   "cell_type": "markdown",
   "metadata": {},
   "source": [
    "#### 7. Define a function that asks the player which is the gesture he or she wants to show: 'rock', 'paper' or 'scissors'.\n",
    "The player should only be allowed to choose one of the 3 gesture options. If the player's choice is not rock, paper or scissors, keep asking until it is."
   ]
  },
  {
   "cell_type": "code",
   "execution_count": 7,
   "metadata": {},
   "outputs": [],
   "source": [
    "def player():\n",
    "    player_input=int(input(\"Type 0 for rock, 1 for paper or 2 for scissors: \"))\n",
    "    while ((player_input>2) | (player_input<0)):\n",
    "        print(\"invalid input\")\n",
    "        player_input=int(input(\"Type 0 for rock, 1 for paper or 2 for scissors: \"))\n",
    "    player_gesture=gestures[player_input]\n",
    "    return (player_input, player_gesture)"
   ]
  },
  {
   "cell_type": "markdown",
   "metadata": {},
   "source": [
    "#### 8. Define a function that checks who won a round. \n",
    "The function should return 0 if there is a tie, 1 if the computer wins and 2 if the player wins."
   ]
  },
  {
   "cell_type": "code",
   "execution_count": 8,
   "metadata": {},
   "outputs": [],
   "source": [
    "def winner (cpu_input,player_input):\n",
    "    if cpu_input==0:\n",
    "        if player_input==0:\n",
    "            return 0\n",
    "        elif player_input==1:\n",
    "            return 2\n",
    "        elif player_input==2:\n",
    "            return 1\n",
    "    elif cpu_input==1:\n",
    "        if player_input==0:\n",
    "            return 1\n",
    "        elif player_input==1:\n",
    "            return 0\n",
    "        elif player_input==2:\n",
    "            return 2\n",
    "    elif cpu_input==2:\n",
    "        if player_input==0:\n",
    "            return 2\n",
    "        elif player_input==1:\n",
    "            return 1\n",
    "        elif player_input==2:\n",
    "            return 0"
   ]
  },
  {
   "cell_type": "markdown",
   "metadata": {},
   "source": [
    "#### 9. Define a function that prints the choice of the computer, the choice of the player and a message that announces who won the current round. \n",
    "You should also use this function to update the variables that count the number of rounds that the computer and the player have won. The score of the winner increases by one point. If there is a tie, the score does not increase."
   ]
  },
  {
   "cell_type": "code",
   "execution_count": 9,
   "metadata": {},
   "outputs": [],
   "source": [
    "def win_round (cpu_input,cpu_score,player_input,player_score,played_rounds):\n",
    "    print(\"Round: BOT-\", gestures[cpu_input], \" vs. YOU-\", gestures[player_input])\n",
    "    win=winner(cpu_input,player_input)\n",
    "    if win==1:\n",
    "        cpu_score+=1\n",
    "        print(\"BOT WON THIS ROUND\")\n",
    "    elif win==2:\n",
    "        player_score+=1\n",
    "        print(\"YOU WON THIS ROUND\")\n",
    "    else:\n",
    "        print(\"TIE ROUND\")\n",
    "    \n",
    "    played_rounds+=1\n",
    "    return (cpu_score, player_score, played_rounds)"
   ]
  },
  {
   "cell_type": "markdown",
   "metadata": {},
   "source": [
    "#### 10. Now it's time to code the execution of the game using the functions and variables you defined above. \n",
    "\n",
    "First, create a loop structure that repeats while no player reaches the minimum score necessary to win and the number of rounds is less than the maximum number of rounds to play in a game.  \n",
    "\n",
    "Inside the loop, use the functions and variables above to create the execution of a round: ask for the player's choice, generate the random choice of the computer, show the round results, update the scores, etc. "
   ]
  },
  {
   "cell_type": "code",
   "execution_count": 10,
   "metadata": {
    "scrolled": true
   },
   "outputs": [
    {
     "name": "stdout",
     "output_type": "stream",
     "text": [
      "Enter the number of rounds: 3\n",
      "Type 0 for rock, 1 for paper or 2 for scissors: 0\n",
      "Round: BOT- paper  vs. YOU- rock\n",
      "BOT WON THIS ROUND\n",
      "Type 0 for rock, 1 for paper or 2 for scissors: 1\n",
      "Round: BOT- paper  vs. YOU- paper\n",
      "TIE ROUND\n",
      "Type 0 for rock, 1 for paper or 2 for scissors: 2\n",
      "Round: BOT- scissors  vs. YOU- scissors\n",
      "TIE ROUND\n"
     ]
    }
   ],
   "source": [
    "n_round=n_rounds()\n",
    "\n",
    "while played_rounds != n_round:\n",
    "    player_var=player()\n",
    "    player_input=int(player_var[0])\n",
    "    player_gestures=str(player_var[1])\n",
    "\n",
    "    cpu_var=cpu()\n",
    "    cpu_input=int(cpu_var[0])\n",
    "    cpu_gestures=str(cpu_var[1])\n",
    "\n",
    "    win_rounds=win_round(cpu_input,cpu_score,player_input,player_score,played_rounds)\n",
    "\n",
    "    cpu_score=int(win_rounds[0])\n",
    "    player_score=int(win_rounds[1])\n",
    "    played_rounds=int(win_rounds[2])\n",
    "    "
   ]
  },
  {
   "cell_type": "markdown",
   "metadata": {},
   "source": [
    "#### 11. Print the winner of the game based on who won more rounds.\n",
    "Remember that the game might be tied. "
   ]
  },
  {
   "cell_type": "code",
   "execution_count": 11,
   "metadata": {},
   "outputs": [
    {
     "name": "stdout",
     "output_type": "stream",
     "text": [
      "---------------\n",
      "--  BOT WIN  --\n",
      "---------------\n"
     ]
    }
   ],
   "source": [
    "if player_score>cpu_score:\n",
    "    print (\"---------------\")\n",
    "    print (\"--  YOU WIN  --\")\n",
    "    print (\"---------------\")\n",
    "elif player_score<cpu_score:\n",
    "    print (\"---------------\")\n",
    "    print (\"--  BOT WIN  --\")\n",
    "    print (\"---------------\")\n",
    "else:\n",
    "    print (\"---------------\")\n",
    "    print (\"-- GAME TIE  --\")\n",
    "    print (\"---------------\")"
   ]
  },
  {
   "cell_type": "markdown",
   "metadata": {},
   "source": [
    "# Bonus: Rock, Paper, Scissors, Lizard & Spock\n",
    "![](images/rpsls.jpg)\n",
    "\n",
    "In this challenge, you need to improve the previous game by adding two new options. To know more about the rules of the improved version of rock, paper, scissors, check this [link](http://www.samkass.com/theories/RPSSL.html). \n",
    "\n",
    "In addition, you will also need to improve how the game interacts with the player: the number of rounds to play, which must be an odd number, will be requested to the user until a valid number is entered. Define a new function to make that request.\n",
    "\n",
    "**Hint**: Try to reuse the code that you already coded in the previous challenge. If your code is efficient, this bonus will only consist of simple modifications to the original game."
   ]
  },
  {
   "cell_type": "markdown",
   "metadata": {},
   "source": [
    "# "
   ]
  },
  {
   "cell_type": "code",
   "execution_count": 17,
   "metadata": {},
   "outputs": [
    {
     "name": "stdout",
     "output_type": "stream",
     "text": [
      "Enter the number of rounds: 5\n",
      "Type 0 for rock, 1 for paper, 2 for scissors, 3 for lizard or 4 for spock: 4\n",
      "Round: BOT- rock  vs. YOU- spock\n",
      "YOU WON THIS ROUND\n",
      "Type 0 for rock, 1 for paper, 2 for scissors, 3 for lizard or 4 for spock: 5\n",
      "invalid input\n",
      "Type 0 for rock, 1 for paper, 2 for scissors, 3 for lizard or 4 for spock: 0\n",
      "Round: BOT- rock  vs. YOU- rock\n",
      "TIE ROUND\n",
      "Type 0 for rock, 1 for paper, 2 for scissors, 3 for lizard or 4 for spock: 2\n",
      "Round: BOT- rock  vs. YOU- scissors\n",
      "BOT WON THIS ROUND\n",
      "Type 0 for rock, 1 for paper, 2 for scissors, 3 for lizard or 4 for spock: 5\n",
      "invalid input\n",
      "Type 0 for rock, 1 for paper, 2 for scissors, 3 for lizard or 4 for spock: 4\n",
      "Round: BOT- rock  vs. YOU- spock\n",
      "YOU WON THIS ROUND\n",
      "Type 0 for rock, 1 for paper, 2 for scissors, 3 for lizard or 4 for spock: 3\n",
      "Round: BOT- spock  vs. YOU- lizard\n",
      "YOU WON THIS ROUND\n",
      "---------------\n",
      "--  YOU WIN  --\n",
      "---------------\n"
     ]
    }
   ],
   "source": [
    "import random\n",
    "gestures= ['rock','paper','scissors','lizard','spock']\n",
    "cpu_score=0\n",
    "player_score=0\n",
    "played_rounds=0\n",
    "\n",
    "def n_rounds():\n",
    "    n_round = int(input(\"Enter the number of rounds: \"))  \n",
    "    while (n_round % 2) == 0:  \n",
    "        print(\"Remember that the number of rounds must be odd: 1, 3, 5, ...\")  \n",
    "        n_round = int(input(\"Enter the number of rounds: \"))\n",
    "    return n_round\n",
    "\n",
    "def cpu():\n",
    "    cpu_input=random.randint(0,4)\n",
    "    return cpu_input\n",
    "\n",
    "def player():\n",
    "    player_input=int(input(\"Type 0 for rock, 1 for paper, 2 for scissors, 3 for lizard or 4 for spock: \"))\n",
    "    while ((player_input>4) | (player_input<0)):\n",
    "        print(\"invalid input\")\n",
    "        player_input=int(input(\"Type 0 for rock, 1 for paper, 2 for scissors, 3 for lizard or 4 for spock: \"))\n",
    "    return player_input\n",
    "\n",
    "def winner (cpu_input,player_input):\n",
    "    if cpu_input==0:\n",
    "        if player_input==0:\n",
    "            return 0\n",
    "        elif player_input==1:\n",
    "            return 2\n",
    "        elif player_input==2:\n",
    "            return 1\n",
    "        elif player_input==3:\n",
    "            return 1\n",
    "        elif player_input==4:\n",
    "            return 2\n",
    "    elif cpu_input==1:\n",
    "        if player_input==0:\n",
    "            return 1\n",
    "        elif player_input==1:\n",
    "            return 0\n",
    "        elif player_input==2:\n",
    "            return 2\n",
    "        elif player_input==3:\n",
    "            return 2\n",
    "        elif player_input==4:\n",
    "            return 1\n",
    "    elif cpu_input==2:\n",
    "        if player_input==0:\n",
    "            return 2\n",
    "        elif player_input==1:\n",
    "            return 1\n",
    "        elif player_input==2:\n",
    "            return 0\n",
    "        elif player_input==3:\n",
    "            return 1\n",
    "        elif player_input==4:\n",
    "            return 2\n",
    "    elif cpu_input==3:\n",
    "        if player_input==0:\n",
    "            return 2\n",
    "        elif player_input==1:\n",
    "            return 1\n",
    "        elif player_input==2:\n",
    "            return 2\n",
    "        elif player_input==3:\n",
    "            return 0\n",
    "        elif player_input==4:\n",
    "            return 1\n",
    "    elif cpu_input==4:\n",
    "        if player_input==0:\n",
    "            return 1\n",
    "        elif player_input==1:\n",
    "            return 2\n",
    "        elif player_input==2:\n",
    "            return 1\n",
    "        elif player_input==3:\n",
    "            return 2\n",
    "        elif player_input==4:\n",
    "            return 0\n",
    "        \n",
    "def win_round (cpu_input,cpu_score,player_input,player_score,played_rounds):\n",
    "    print(\"Round: BOT-\", gestures[cpu_input], \" vs. YOU-\", gestures[player_input])\n",
    "    win=winner(cpu_input,player_input)\n",
    "    if win==1:\n",
    "        cpu_score+=1\n",
    "        print(\"BOT WON THIS ROUND\")\n",
    "    elif win==2:\n",
    "        player_score+=1\n",
    "        print(\"YOU WON THIS ROUND\")\n",
    "    else:\n",
    "        print(\"TIE ROUND\")\n",
    "    \n",
    "    played_rounds+=1\n",
    "    return (cpu_score, player_score, played_rounds)\n",
    "\n",
    "n_round=n_rounds()\n",
    "\n",
    "while played_rounds != n_round:\n",
    "    player_input=player()\n",
    "\n",
    "    cpu_input=cpu()\n",
    "\n",
    "    win_rounds=win_round(cpu_input,cpu_score,player_input,player_score,played_rounds)\n",
    "\n",
    "    cpu_score=int(win_rounds[0])\n",
    "    player_score=int(win_rounds[1])\n",
    "    played_rounds=int(win_rounds[2])\n",
    "    \n",
    "if player_score>cpu_score:\n",
    "    print (\"---------------\")\n",
    "    print (\"--  YOU WIN  --\")\n",
    "    print (\"---------------\")\n",
    "elif player_score<cpu_score:\n",
    "    print (\"---------------\")\n",
    "    print (\"--  BOT WIN  --\")\n",
    "    print (\"---------------\")\n",
    "else:\n",
    "    print (\"---------------\")\n",
    "    print (\"-- GAME TIE  --\")\n",
    "    print (\"---------------\")\n",
    "    "
   ]
  }
 ],
 "metadata": {
  "kernelspec": {
   "display_name": "Python 3",
   "language": "python",
   "name": "python3"
  },
  "language_info": {
   "codemirror_mode": {
    "name": "ipython",
    "version": 3
   },
   "file_extension": ".py",
   "mimetype": "text/x-python",
   "name": "python",
   "nbconvert_exporter": "python",
   "pygments_lexer": "ipython3",
   "version": "3.8.8"
  }
 },
 "nbformat": 4,
 "nbformat_minor": 2
}
